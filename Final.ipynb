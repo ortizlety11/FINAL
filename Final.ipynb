{
 "cells": [
  {
   "cell_type": "markdown",
   "id": "69775963-bebc-4a07-b7a8-f5a2bf5385ea",
   "metadata": {},
   "source": [
    "# (Data Science Tools and Ecosystem)"
   ]
  },
  {
   "cell_type": "markdown",
   "id": "f37d4301-4c3c-473b-aec1-d28107340ae5",
   "metadata": {},
   "source": [
    "## AUTHOR \n",
    "\n",
    "LETICIA J ORTIZ \n"
   ]
  },
  {
   "cell_type": "markdown",
   "id": "68feb393-ae90-42a3-849f-7db44b132c35",
   "metadata": {},
   "source": [
    "### Introduction: \n",
    "\n",
    "In this notebook, Data Science Tools and Ecosystem are summarized."
   ]
  },
  {
   "cell_type": "markdown",
   "id": "9defcd07-a0ee-4b15-9d29-b7c53c3dbcd0",
   "metadata": {},
   "source": [
    "**OBJECTIVES:**\n",
    "\n",
    "- JUPYTER NOTEBOOKS \n",
    "- TOOLS FOR DATA SCIENCE \n",
    "- LANGUAGES OF DATA SCIENCE \n",
    "- LIBRARIES FOR DATA SCIENCE "
   ]
  },
  {
   "cell_type": "markdown",
   "id": "35426b67-dbbe-4a63-b021-a55bc21e4c27",
   "metadata": {},
   "source": [
    "Some of the popular languages that Data Scientists use are:\n",
    "\n",
    "1. PYTHON\n",
    "2. R \n",
    "3. SQL \n"
   ]
  },
  {
   "cell_type": "markdown",
   "id": "2852d55d-9b35-48cd-b904-3d9faa52d39e",
   "metadata": {},
   "source": [
    "Some of the commonly used libraries used by Data Scientists include:\n",
    "1. ALTAIR \n",
    "2. SCIKIT-LEARN\n",
    "3. MATPLOTLIB\n",
    "\n"
   ]
  },
  {
   "cell_type": "markdown",
   "id": "c9977371-5194-44f5-9cb0-c9eef90065d6",
   "metadata": {},
   "source": [
    "| DATA SCIENCE TOOLS |\n",
    "| ------------- |\n",
    "| MYSQL |\n",
    "| POSTGRE SQL |\n",
    "| APACHE |\n"
   ]
  },
  {
   "cell_type": "markdown",
   "id": "cb8acb55-8e46-4556-8444-6ad3346cca09",
   "metadata": {},
   "source": [
    "### Below are a few examples of evaluating arithmetic expressions in Python"
   ]
  },
  {
   "cell_type": "code",
   "execution_count": 1,
   "id": "d362de2a-774d-4024-8bf5-7ab5c6edc63a",
   "metadata": {
    "tags": []
   },
   "outputs": [
    {
     "data": {
      "text/plain": [
       "17"
      ]
     },
     "execution_count": 1,
     "metadata": {},
     "output_type": "execute_result"
    }
   ],
   "source": [
    "#  This a simple arithmetic expression to mutiply then add integers.\n",
    "(3*4) +  5 \n",
    "\n"
   ]
  },
  {
   "cell_type": "code",
   "execution_count": 4,
   "id": "49265a91-8477-4deb-9059-dd3592134059",
   "metadata": {
    "tags": []
   },
   "outputs": [
    {
     "data": {
      "text/plain": [
       "3.3333333333333335"
      ]
     },
     "execution_count": 4,
     "metadata": {},
     "output_type": "execute_result"
    }
   ],
   "source": [
    "# This will convert 200 minutes to hours by diving by 60\n",
    "\n",
    "200/60\n"
   ]
  }
 ],
 "metadata": {
  "kernelspec": {
   "display_name": "Python",
   "language": "python",
   "name": "conda-env-python-py"
  },
  "language_info": {
   "codemirror_mode": {
    "name": "ipython",
    "version": 3
   },
   "file_extension": ".py",
   "mimetype": "text/x-python",
   "name": "python",
   "nbconvert_exporter": "python",
   "pygments_lexer": "ipython3",
   "version": "3.7.12"
  }
 },
 "nbformat": 4,
 "nbformat_minor": 5
}
